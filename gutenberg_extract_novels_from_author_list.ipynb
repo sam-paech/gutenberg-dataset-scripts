{
 "cells": [
  {
   "cell_type": "code",
   "execution_count": 1,
   "metadata": {},
   "outputs": [],
   "source": [
    "import json\n",
    "import re\n",
    "\n",
    "# Load the fantasy author selections file\n",
    "with open('data/romance_author_selections_top_50.json', 'r') as f:\n",
    "    fantasy_authors = json.load(f)\n",
    "\n",
    "# Load the Gutenberg index file\n",
    "with open('_gutenberg_index.json', 'r', encoding=\"utf-8\") as f:\n",
    "    gutenberg_index = json.load(f)\n",
    "\n",
    "# Helper function to create a regex pattern from an author's name\n",
    "def create_author_regex(author_name):\n",
    "    # Handle initials like \"C.S.\" to match \"C. S.\", \"CS\", etc.\n",
    "    # For example, C.S. Lewis -> C.?S.?\\s*Lewis\n",
    "    parts = re.split(r'\\s+', author_name)  # Split the name by spaces\n",
    "    regex_parts = []\n",
    "    \n",
    "    for part in parts:\n",
    "        if len(part) == 2 and part[1] == '.':  # Check for initials like \"C.\"\n",
    "            regex_parts.append(re.escape(part[0]) + r'\\.?')  # Make \"C.\" match \"C\" or \"C.\"\n",
    "        else:\n",
    "            regex_parts.append(re.escape(part))  # Escape normal words\n",
    "    \n",
    "    return r'\\s*'.join(regex_parts)  # Join parts with optional spaces\n",
    "\n",
    "# Main function to find books by authors\n",
    "def find_books_by_authors(fantasy_authors, gutenberg_index):\n",
    "    result = {}\n",
    "\n",
    "    for author_id, author_name in fantasy_authors.items():\n",
    "        # Create a regex pattern for the author name\n",
    "        author_pattern = create_author_regex(author_name)\n",
    "        author_regex = re.compile(author_pattern, re.IGNORECASE)\n",
    "\n",
    "        # Collect all matching books for the current author\n",
    "        matching_books = []\n",
    "\n",
    "        for book_key, book_info in gutenberg_index.items():\n",
    "            if author_regex.search(book_info['author']):\n",
    "                matching_books.append(book_info)\n",
    "        \n",
    "        # Store the result in the dict indexed by the exact author name\n",
    "        if matching_books:\n",
    "            result[author_name] = matching_books\n",
    "\n",
    "    return result\n",
    "\n",
    "# Find the books\n",
    "author_books = find_books_by_authors(fantasy_authors, gutenberg_index)\n",
    "\n",
    "# Print or save the results\n",
    "with open(\"data/romance_author_selections_top_50_all_books.json\", \"w\") as f:\n",
    "    json.dump(author_books, f, indent=4)\n"
   ]
  }
 ],
 "metadata": {
  "kernelspec": {
   "display_name": "Python 3",
   "language": "python",
   "name": "python3"
  },
  "language_info": {
   "codemirror_mode": {
    "name": "ipython",
    "version": 3
   },
   "file_extension": ".py",
   "mimetype": "text/x-python",
   "name": "python",
   "nbconvert_exporter": "python",
   "pygments_lexer": "ipython3",
   "version": "3.10.6"
  }
 },
 "nbformat": 4,
 "nbformat_minor": 2
}
