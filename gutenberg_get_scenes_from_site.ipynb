{
 "cells": [
  {
   "cell_type": "code",
   "execution_count": null,
   "metadata": {},
   "outputs": [],
   "source": [
    "# %%\n",
    "import google.generativeai as genai\n",
    "import time\n",
    "import threading\n",
    "import json\n",
    "import os\n",
    "from pathlib import Path\n",
    "from tqdm import tqdm\n",
    "import tempfile\n",
    "import chardet\n",
    "import zipfile\n",
    "import shutil\n",
    "import concurrent.futures\n",
    "import re\n",
    "import openai\n",
    "import requests\n",
    "\n",
    "# %%\n",
    "# Initialize the thread lock\n",
    "lock = threading.Lock()\n",
    "\n",
    "# %%\n",
    "# Configuration for Gemini\n",
    "gemini_model = None\n",
    "def run_gemini_query(prompt, history, completion_tokens, temp, model):\n",
    "    global gemini_model\n",
    "\n",
    "    tries = 0\n",
    "    while tries < 30:\n",
    "        tries += 1\n",
    "        try:\n",
    "            if not gemini_model:\n",
    "                genai.configure(api_key=\"\")            \n",
    "                gemini_model = genai.GenerativeModel(model)\n",
    "\n",
    "            safety_settings = [\n",
    "                {\"category\": \"HARM_CATEGORY_HARASSMENT\", \"threshold\": \"BLOCK_NONE\"},\n",
    "                {\"category\": \"HARM_CATEGORY_HATE_SPEECH\", \"threshold\": \"BLOCK_NONE\"},\n",
    "                {\"category\": \"HARM_CATEGORY_SEXUALLY_EXPLICIT\", \"threshold\": \"BLOCK_NONE\"},\n",
    "                {\"category\": \"HARM_CATEGORY_DANGEROUS_CONTENT\", \"threshold\": \"BLOCK_NONE\"},\n",
    "            ]\n",
    "\n",
    "            response = gemini_model.generate_content(\n",
    "                prompt,\n",
    "                generation_config=genai.types.GenerationConfig(\n",
    "                    candidate_count=1,\n",
    "                    max_output_tokens=completion_tokens,\n",
    "                    temperature=temp\n",
    "                ),\n",
    "                safety_settings=safety_settings\n",
    "            )\n",
    "\n",
    "            input_toks = response.usage_metadata.prompt_token_count\n",
    "            output_toks = response.usage_metadata.candidates_token_count\n",
    "            cost_usd = input_toks / 1_000_000 * 1.25 + output_toks / 1_000_000 * 5\n",
    "\n",
    "            # Update costs.json with locking\n",
    "            with lock:\n",
    "                if os.path.exists('gemini_costs.json'):\n",
    "                    with open('gemini_costs.json', 'r') as f:\n",
    "                        costs = json.load(f)\n",
    "                else:\n",
    "                    costs = {}\n",
    "                costs[model] = costs.get(model, 0) + cost_usd\n",
    "                with open('gemini_costs.json', 'w') as f:\n",
    "                    json.dump(costs, f)\n",
    "\n",
    "            inference = response.text.strip() if response.text else None\n",
    "\n",
    "            if inference:\n",
    "                return inference\n",
    "            else:\n",
    "                print('Error: message is empty')\n",
    "                time.sleep(5)\n",
    "\n",
    "        except Exception as e:\n",
    "            print(\"Request failed.\")\n",
    "            print(e)\n",
    "            if str(e) != '429 Resource has been exhausted (e.g. check quota).':\n",
    "                return None\n",
    "            print('retrying', tries)\n",
    "            time.sleep(20)\n",
    "\n",
    "    return None\n",
    "\n",
    "\n",
    "# %%\n",
    "# Function to parse scenes from text\n",
    "def parse_scenes_from_text(text: str):\n",
    "    try:\n",
    "        scene_pattern = re.compile(r'## SCENE \\d+:\\n(.+?)(?=(?:## SCENE \\d+:|$))', re.DOTALL)\n",
    "        scenes = scene_pattern.findall(text)\n",
    "        return [scene.strip() for scene in scenes] if scenes else []\n",
    "    except Exception as e:\n",
    "        return []\n",
    "\n",
    "# %%\n",
    "# Selection prompt template\n",
    "selection_prompt = \"\"\"\n",
    "[TEXT START]\n",
    "<TEXT>\n",
    "[TEXT END]\n",
    "\n",
    "Your task is to examine the above **public domain** work for evocative, interesting, well-written scenes.\n",
    "\n",
    "Instructions:\n",
    "\n",
    "- Choose 3 long scenes of approx 1000-1500 words, and output them in their entirety.\n",
    "- You must also repair paragraphs by restoring sentences within a paragraph that are broken by a newline.\n",
    "- Double newline between paragraphs.\n",
    "- Do not include chapter names.\n",
    "\n",
    "Output in this format:\n",
    "\n",
    "## THOUGHT PROCESS:\n",
    "\n",
    "<thought process for the scene selection>\n",
    "\n",
    "## SCENE 1:\n",
    "\n",
    "<the text of approx 1000-1500 words>\n",
    "\n",
    "## SCENE 2:\n",
    "\n",
    "<the text of approx 1000-1500 words>\n",
    "\n",
    "## SCENE 3:\n",
    "\n",
    "<the text of approx 1000-1500 words>\n",
    "\n",
    "\n",
    "--\n",
    "\n",
    "Output precisely in this format. Do not add any additional commentary or explanations.\n",
    "\"\"\"\n",
    "\n",
    "# %%\n",
    "# Function to detect file encoding\n",
    "def detect_encoding(file_path: Path):\n",
    "    try:\n",
    "        with open(file_path, 'rb') as f:\n",
    "            raw_data = f.read(100000)  # Read first 100KB for detection\n",
    "        result = chardet.detect(raw_data)\n",
    "        encoding = result['encoding']\n",
    "        confidence = result['confidence']\n",
    "        if encoding:\n",
    "            encoding_lower = encoding.lower()\n",
    "            if encoding_lower in ['ascii', 'charmap']:\n",
    "                return 'latin-1'\n",
    "            if confidence >= 0.5:\n",
    "                return encoding\n",
    "        return 'utf-8'  # Fallback encoding\n",
    "    except Exception as e:\n",
    "        print(f\"Error detecting encoding for '{file_path}': {e}. Falling back to 'utf-8'.\")\n",
    "        return 'utf-8'  # Fallback encoding\n",
    "\n",
    "# %%\n",
    "# Worker function to process a single file\n",
    "def process_file(key, selection, results_path, selection_prompt):\n",
    "    # Check if file already processed\n",
    "    with lock:\n",
    "        if os.path.exists(results_path):\n",
    "            with open(results_path, 'r') as f:\n",
    "                scenes = json.load(f)\n",
    "        else:\n",
    "            scenes = {}\n",
    "        if key in scenes:\n",
    "            print(f\"Skipping '{key}': already processed.\")\n",
    "            return\n",
    "\n",
    "    response = requests.get(selection[\"text_url\"])\n",
    "\n",
    "    content = response.text\n",
    "\n",
    "    if len(content) < 10000:\n",
    "        print(f\"Skipping '{key}': content too small!\")\n",
    "        return\n",
    "    \n",
    "    if content.find('End of the Project Gutenberg'):\n",
    "        content = content[:content.find('End of the Project Gutenberg')].strip()\n",
    "    else:\n",
    "        print('!! not found')\n",
    "\n",
    "    max_seg_length = 400000\n",
    "    # Split into 4 even segments, ensuring max length\n",
    "    #segment_length = max_seg_length\n",
    "    #segments = [content[i:i+segment_length] for i in range(0, len(content), segment_length)]\n",
    "    #segments = segments[:4]  # Limit to first 4 segments\n",
    "    segments = [content[i:i+len(content)//4][:max_seg_length] for i in range(0, len(content), len(content)//4)]\n",
    "    segments = segments[:4]\n",
    "\n",
    "    # Collect scenes from all segments\n",
    "    all_scenes = []\n",
    "    for i, segment in enumerate(segments):\n",
    "        prompt = selection_prompt\n",
    "        if i == 0:\n",
    "            prompt += \"\\nThe first scene you select should be the very start of the book. The other two can be selected from anywhere.\"\n",
    "\n",
    "        prompt = prompt.replace('<TEXT>', segment)\n",
    "\n",
    "        result = run_gemini_query(prompt, [], 16000, 0, \"gemini-1.5-pro-002\")\n",
    "\n",
    "        #print('-'*10)\n",
    "        #print(result)\n",
    "        #print('-'*10)\n",
    "\n",
    "        if result:\n",
    "            this_scenes = parse_scenes_from_text(result)\n",
    "            print(len(this_scenes))\n",
    "            #if not scenes:\n",
    "            #    print('!!')\n",
    "\n",
    "            all_scenes.extend(this_scenes)\n",
    "        else:\n",
    "            print(f\"Failed to get scenes for '{key}' segment {i+1}.\")\n",
    "\n",
    "        \n",
    "\n",
    "    # Update scenes.json with locking\n",
    "    with lock:\n",
    "        if os.path.exists(results_path):\n",
    "            with open(results_path, 'r') as f:\n",
    "                scenes = json.load(f)\n",
    "        else:\n",
    "            scenes = {}\n",
    "        if key not in scenes:\n",
    "            scenes[key] = []\n",
    "        scenes[key].extend(all_scenes)\n",
    "        with open(results_path, 'w') as f:\n",
    "            json.dump(scenes, f, indent=2)\n"
   ]
  },
  {
   "cell_type": "code",
   "execution_count": 8,
   "metadata": {},
   "outputs": [],
   "source": [
    "import json\n",
    "\n",
    "# %%\n",
    "# Main function to orchestrate multithreading\n",
    "def main():\n",
    "    #filenames_path = 'data/fiction_book_selections.json'\n",
    "    #filenames_path = 'data/fantasy_book_selections.json'\n",
    "    #filenames_path = 'data/scifi_book_selections.json'\n",
    "    selections_path = 'data/site/site_fiction_final_selections.json'\n",
    "\n",
    "    #results_path = \"scenes.json\"\n",
    "    #results_path = \"scenes_fantasy.json\"\n",
    "    #results_path = \"scenes_scifi.json\"\n",
    "    results_path = \"data/site/processing/site_scenes_fiction.json\"\n",
    "    num_threads = 32\n",
    "\n",
    "    # Load filenames\n",
    "    with open(selections_path, 'r') as f:\n",
    "        selections = json.load(f)\n",
    "\n",
    "    #print(len(filenames))\n",
    "    \n",
    "    if True:\n",
    "        with open('data/site/site_fantasy_final_selections.json', 'r') as f:\n",
    "            already_selected = json.load(f)\n",
    "\n",
    "        for k in already_selected:\n",
    "            try:\n",
    "                del selections[k]\n",
    "            except:\n",
    "                pass\n",
    "\n",
    "\n",
    "    if True:\n",
    "        with open('data/site/site_scifi_final_selections.json', 'r') as f:\n",
    "            already_selected = json.load(f)\n",
    "\n",
    "        for k in already_selected:\n",
    "            try:\n",
    "                del selections[k]\n",
    "            except:\n",
    "                pass\n",
    "\n",
    "    if True:\n",
    "        with open('data/site/site_adventure_final_selections.json', 'r') as f:\n",
    "            already_selected = json.load(f)\n",
    "\n",
    "        for k in already_selected:\n",
    "            try:\n",
    "                del selections[k]\n",
    "            except:\n",
    "                pass\n",
    "\n",
    "    \n",
    "\n",
    "    # Initialize tqdm\n",
    "    progress = tqdm(total=len(selections), desc=\"Processing files\")\n",
    "\n",
    "    # Define a helper to update tqdm\n",
    "    def update_progress(future):\n",
    "        progress.update(1)\n",
    "        exception = future.exception()\n",
    "        if exception:\n",
    "            print(f\"Error occurred: {exception}\")\n",
    "\n",
    "    # Use ThreadPoolExecutor for multithreading\n",
    "    with concurrent.futures.ThreadPoolExecutor(max_workers=num_threads) as executor:\n",
    "        futures = []\n",
    "        for k,v in selections.items():\n",
    "            future = executor.submit(process_file, k, v, results_path, selection_prompt)\n",
    "            future.add_done_callback(update_progress)\n",
    "            futures.append(future)\n",
    "            time.sleep(5)\n",
    "\n",
    "        # Wait for all futures to complete\n",
    "        concurrent.futures.wait(futures)\n",
    "\n",
    "    progress.close()\n",
    "    print(\"Processing completed.\")\n"
   ]
  },
  {
   "cell_type": "code",
   "execution_count": 9,
   "metadata": {},
   "outputs": [
    {
     "name": "stderr",
     "output_type": "stream",
     "text": [
      "Processing files:   0%|          | 0/64 [00:00<?, ?it/s]"
     ]
    },
    {
     "name": "stdout",
     "output_type": "stream",
     "text": [
      "Request failed.\n",
      "Invalid operation: The `response.text` quick accessor requires the response to contain a valid `Part`, but none were returned. The candidate's [finish_reason](https://ai.google.dev/api/generate-content#finishreason) is 4. Meaning that the model was reciting from copyrighted material.\n",
      "Failed to get scenes for 'Mary Wollstonecraft Shelley -- Frankenstein; Or, The Modern Prometheus' segment 1.\n",
      "3\n",
      "Request failed.\n",
      "Invalid operation: The `response.text` quick accessor requires the response to contain a valid `Part`, but none were returned. The candidate's [finish_reason](https://ai.google.dev/api/generate-content#finishreason) is 4. Meaning that the model was reciting from copyrighted material.\n",
      "Failed to get scenes for 'Charlotte Perkins Gilman -- The Yellow Wallpaper' segment 1.\n",
      "3\n",
      "3\n",
      "3\n",
      "3\n",
      "Request failed.\n",
      "Invalid operation: The `response.text` quick accessor requires the response to contain a valid `Part`, but none were returned. The candidate's [finish_reason](https://ai.google.dev/api/generate-content#finishreason) is 4. Meaning that the model was reciting from copyrighted material.\n",
      "Failed to get scenes for 'Charles Dickens -- A Christmas Carol in Prose; Being a Ghost Story of Christmas' segment 1.\n",
      "3\n",
      "3\n",
      "3\n",
      "Request failed.\n",
      "Invalid operation: The `response.text` quick accessor requires the response to contain a valid `Part`, but none were returned. The candidate's [finish_reason](https://ai.google.dev/api/generate-content#finishreason) is 7.\n",
      "Failed to get scenes for 'Joseph Conrad -- Heart of Darkness' segment 1.\n",
      "3\n",
      "3\n",
      "3\n",
      "3\n",
      "Request failed.\n",
      "Invalid operation: The `response.text` quick accessor requires the response to contain a valid `Part`, but none were returned. The candidate's [finish_reason](https://ai.google.dev/api/generate-content#finishreason) is 7.\n",
      "Failed to get scenes for 'Mark Twain -- Adventures of Huckleberry Finn' segment 1.\n",
      "Request failed.\n",
      "Invalid operation: The `response.text` quick accessor requires the response to contain a valid `Part`, but none were returned. The candidate's [finish_reason](https://ai.google.dev/api/generate-content#finishreason) is 7.\n",
      "Failed to get scenes for 'Mark Twain -- The Adventures of Tom Sawyer, Complete' segment 1.\n",
      "3\n",
      "3\n",
      "3\n",
      "3\n",
      "3\n",
      "3\n",
      "Request failed.\n",
      "Invalid operation: The `response.text` quick accessor requires the response to contain a valid `Part`, but none were returned. The candidate's [finish_reason](https://ai.google.dev/api/generate-content#finishreason) is 4. Meaning that the model was reciting from copyrighted material.\n",
      "Failed to get scenes for 'John William Polidori -- The Vampyre; a Tale' segment 1.\n",
      "3\n",
      "3\n",
      "3\n",
      "3\n",
      "3\n",
      "3\n",
      "Request failed.\n",
      "Invalid operation: The `response.text` quick accessor requires the response to contain a valid `Part`, but none were returned. The candidate's [finish_reason](https://ai.google.dev/api/generate-content#finishreason) is 7.\n",
      "Failed to get scenes for 'Washington Irving -- The Legend of Sleepy Hollow' segment 3.\n",
      "3\n",
      "3\n",
      "3\n",
      "3\n",
      "Request failed.\n",
      "Invalid operation: The `response.text` quick accessor requires the response to contain a valid `Part`, but none were returned. The candidate's [finish_reason](https://ai.google.dev/api/generate-content#finishreason) is 7.\n",
      "Failed to get scenes for 'Joseph Conrad -- Heart of Darkness' segment 2.\n",
      "3\n",
      "3\n",
      "3\n",
      "3\n",
      "3\n",
      "3\n",
      "3\n",
      "3\n",
      "3\n",
      "3\n",
      "Request failed.\n",
      "Invalid operation: The `response.text` quick accessor requires the response to contain a valid `Part`, but none were returned. The candidate's [finish_reason](https://ai.google.dev/api/generate-content#finishreason) is 4. Meaning that the model was reciting from copyrighted material.\n",
      "Failed to get scenes for 'Arthur Conan Doyle -- The Adventures of Sherlock Holmes' segment 2.\n",
      "3\n",
      "3\n",
      "3\n",
      "3\n"
     ]
    },
    {
     "name": "stderr",
     "output_type": "stream",
     "text": [
      "Processing files:   2%|▏         | 1/64 [07:56<8:20:43, 476.89s/it]"
     ]
    },
    {
     "name": "stdout",
     "output_type": "stream",
     "text": [
      "3\n",
      "3\n"
     ]
    },
    {
     "name": "stderr",
     "output_type": "stream",
     "text": [
      "Processing files:   3%|▎         | 2/64 [08:10<3:31:11, 204.38s/it]"
     ]
    },
    {
     "name": "stdout",
     "output_type": "stream",
     "text": [
      "Request failed.\n",
      "Invalid operation: The `response.text` quick accessor requires the response to contain a valid `Part`, but none were returned. The candidate's [finish_reason](https://ai.google.dev/api/generate-content#finishreason) is 4. Meaning that the model was reciting from copyrighted material.\n",
      "Failed to get scenes for 'Washington Irving -- The Legend of Sleepy Hollow' segment 4.\n",
      "3\n",
      "3\n",
      "Request failed.\n",
      "Invalid operation: The `response.text` quick accessor requires the response to contain a valid `Part`, but none were returned. The candidate's [finish_reason](https://ai.google.dev/api/generate-content#finishreason) is 4. Meaning that the model was reciting from copyrighted material.\n",
      "Failed to get scenes for 'Charles Dickens -- A Christmas Carol in Prose; Being a Ghost Story of Christmas' segment 2.\n",
      "3\n",
      "3\n",
      "Request failed.\n",
      "Invalid operation: The `response.text` quick accessor requires the response to contain a valid `Part`, but none were returned. The candidate's [finish_reason](https://ai.google.dev/api/generate-content#finishreason) is 7.\n",
      "Failed to get scenes for 'Joseph Conrad -- Heart of Darkness' segment 3.\n",
      "3\n",
      "3\n"
     ]
    },
    {
     "name": "stderr",
     "output_type": "stream",
     "text": [
      "Processing files:   5%|▍         | 3/64 [09:25<2:27:30, 145.09s/it]"
     ]
    },
    {
     "name": "stdout",
     "output_type": "stream",
     "text": [
      "3\n",
      "3\n",
      "3\n",
      "3\n",
      "3\n",
      "3\n",
      "3\n",
      "3\n",
      "3\n",
      "Request failed.\n",
      "Invalid operation: The `response.text` quick accessor requires the response to contain a valid `Part`, but none were returned. The candidate's [finish_reason](https://ai.google.dev/api/generate-content#finishreason) is 7.\n",
      "Failed to get scenes for 'F. Scott Fitzgerald -- The Great Gatsby' segment 3.\n",
      "Request failed.\n",
      "Invalid operation: The `response.text` quick accessor requires the response to contain a valid `Part`, but none were returned. The candidate's [finish_reason](https://ai.google.dev/api/generate-content#finishreason) is 7.\n",
      "Failed to get scenes for 'Herman Melville -- Moby Dick; Or, The Whale' segment 3.\n"
     ]
    },
    {
     "name": "stderr",
     "output_type": "stream",
     "text": [
      "Processing files:   6%|▋         | 4/64 [10:31<1:54:12, 114.20s/it]"
     ]
    },
    {
     "name": "stdout",
     "output_type": "stream",
     "text": [
      "3\n",
      "3\n",
      "3\n",
      "3\n",
      "3\n",
      "3\n",
      "3\n",
      "3\n",
      "3\n",
      "Request failed.\n",
      "Invalid operation: The `response.text` quick accessor requires the response to contain a valid `Part`, but none were returned. The candidate's [finish_reason](https://ai.google.dev/api/generate-content#finishreason) is 7.\n",
      "Failed to get scenes for 'Mark Twain -- Adventures of Huckleberry Finn' segment 2.\n",
      "3\n",
      "3\n",
      "3\n"
     ]
    },
    {
     "name": "stderr",
     "output_type": "stream",
     "text": [
      "Processing files:   8%|▊         | 5/64 [11:25<1:30:57, 92.49s/it] "
     ]
    },
    {
     "name": "stdout",
     "output_type": "stream",
     "text": [
      "3\n",
      "3\n",
      "3\n",
      "3\n",
      "3\n",
      "3\n",
      "3\n"
     ]
    },
    {
     "name": "stderr",
     "output_type": "stream",
     "text": [
      "Processing files:   9%|▉         | 6/64 [12:30<1:20:18, 83.08s/it]"
     ]
    },
    {
     "name": "stdout",
     "output_type": "stream",
     "text": [
      "3\n"
     ]
    },
    {
     "name": "stderr",
     "output_type": "stream",
     "text": [
      "Processing files:  11%|█         | 7/64 [12:36<54:46, 57.67s/it]  "
     ]
    },
    {
     "name": "stdout",
     "output_type": "stream",
     "text": [
      "3\n",
      "3\n"
     ]
    },
    {
     "name": "stderr",
     "output_type": "stream",
     "text": [
      "Processing files:  12%|█▎        | 8/64 [12:44<39:19, 42.14s/it]"
     ]
    },
    {
     "name": "stdout",
     "output_type": "stream",
     "text": [
      "Request failed.\n",
      "Invalid operation: The `response.text` quick accessor requires the response to contain a valid `Part`, but none were returned. The candidate's [finish_reason](https://ai.google.dev/api/generate-content#finishreason) is 7.\n",
      "Failed to get scenes for 'Joseph Conrad -- Heart of Darkness' segment 4.\n",
      "3\n"
     ]
    },
    {
     "name": "stderr",
     "output_type": "stream",
     "text": [
      "Processing files:  14%|█▍        | 9/64 [12:46<26:57, 29.42s/it]"
     ]
    },
    {
     "name": "stdout",
     "output_type": "stream",
     "text": [
      "Request failed.\n",
      "Invalid operation: The `response.text` quick accessor requires the response to contain a valid `Part`, but none were returned. The candidate's [finish_reason](https://ai.google.dev/api/generate-content#finishreason) is 4. Meaning that the model was reciting from copyrighted material.\n",
      "Failed to get scenes for 'Franz Kafka -- Metamorphosis' segment 4.\n"
     ]
    },
    {
     "name": "stderr",
     "output_type": "stream",
     "text": [
      "Processing files:  16%|█▌        | 10/64 [12:56<21:08, 23.49s/it]"
     ]
    },
    {
     "name": "stdout",
     "output_type": "stream",
     "text": [
      "3\n"
     ]
    },
    {
     "name": "stderr",
     "output_type": "stream",
     "text": [
      "Processing files:  17%|█▋        | 11/64 [12:59<15:10, 17.18s/it]"
     ]
    },
    {
     "name": "stdout",
     "output_type": "stream",
     "text": [
      "3\n",
      "3\n"
     ]
    },
    {
     "name": "stderr",
     "output_type": "stream",
     "text": [
      "Processing files:  19%|█▉        | 12/64 [13:02<11:14, 12.97s/it]"
     ]
    },
    {
     "name": "stdout",
     "output_type": "stream",
     "text": [
      "3\n"
     ]
    },
    {
     "name": "stderr",
     "output_type": "stream",
     "text": [
      "Processing files:  20%|██        | 13/64 [13:13<10:26, 12.27s/it]"
     ]
    },
    {
     "name": "stdout",
     "output_type": "stream",
     "text": [
      "3\n",
      "3\n",
      "3\n",
      "3\n",
      "3\n"
     ]
    },
    {
     "name": "stderr",
     "output_type": "stream",
     "text": [
      "Processing files:  22%|██▏       | 14/64 [14:00<18:59, 22.79s/it]"
     ]
    },
    {
     "name": "stdout",
     "output_type": "stream",
     "text": [
      "3\n",
      "3\n",
      "3\n"
     ]
    },
    {
     "name": "stderr",
     "output_type": "stream",
     "text": [
      "Processing files:  23%|██▎       | 15/64 [14:08<14:51, 18.20s/it]"
     ]
    },
    {
     "name": "stdout",
     "output_type": "stream",
     "text": [
      "3\n",
      "3\n"
     ]
    },
    {
     "name": "stderr",
     "output_type": "stream",
     "text": [
      "Processing files:  25%|██▌       | 16/64 [14:36<17:03, 21.32s/it]"
     ]
    },
    {
     "name": "stdout",
     "output_type": "stream",
     "text": [
      "Request failed.\n",
      "Invalid operation: The `response.text` quick accessor requires the response to contain a valid `Part`, but none were returned. The candidate's [finish_reason](https://ai.google.dev/api/generate-content#finishreason) is 7.\n",
      "Failed to get scenes for 'Mark Twain -- The Adventures of Tom Sawyer, Complete' segment 4.\n",
      "2\n"
     ]
    },
    {
     "name": "stderr",
     "output_type": "stream",
     "text": [
      "Processing files:  27%|██▋       | 17/64 [14:43<13:17, 16.98s/it]"
     ]
    },
    {
     "name": "stdout",
     "output_type": "stream",
     "text": [
      "3\n",
      "3\n",
      "3\n"
     ]
    },
    {
     "name": "stderr",
     "output_type": "stream",
     "text": [
      "Processing files:  28%|██▊       | 18/64 [15:03<13:39, 17.81s/it]"
     ]
    },
    {
     "name": "stdout",
     "output_type": "stream",
     "text": [
      "3\n"
     ]
    },
    {
     "name": "stderr",
     "output_type": "stream",
     "text": [
      "Processing files:  30%|██▉       | 19/64 [15:07<10:18, 13.75s/it]"
     ]
    },
    {
     "name": "stdout",
     "output_type": "stream",
     "text": [
      "3\n",
      "Request failed.\n",
      "Invalid operation: The `response.text` quick accessor requires the response to contain a valid `Part`, but none were returned. The candidate's [finish_reason](https://ai.google.dev/api/generate-content#finishreason) is 4. Meaning that the model was reciting from copyrighted material.\n",
      "Failed to get scenes for 'H. G. Wells -- The Red Room' segment 1.\n"
     ]
    },
    {
     "name": "stderr",
     "output_type": "stream",
     "text": [
      "Processing files:  31%|███▏      | 20/64 [15:37<13:37, 18.58s/it]"
     ]
    },
    {
     "name": "stdout",
     "output_type": "stream",
     "text": [
      "3\n"
     ]
    },
    {
     "name": "stderr",
     "output_type": "stream",
     "text": [
      "Processing files:  33%|███▎      | 21/64 [15:44<10:44, 14.99s/it]"
     ]
    },
    {
     "name": "stdout",
     "output_type": "stream",
     "text": [
      "3\n",
      "3\n"
     ]
    },
    {
     "name": "stderr",
     "output_type": "stream",
     "text": [
      "Processing files:  34%|███▍      | 22/64 [15:54<09:33, 13.65s/it]"
     ]
    },
    {
     "name": "stdout",
     "output_type": "stream",
     "text": [
      "Request failed.\n",
      "Invalid operation: The `response.text` quick accessor requires the response to contain a valid `Part`, but none were returned. The candidate's [finish_reason](https://ai.google.dev/api/generate-content#finishreason) is 7.\n",
      "Failed to get scenes for 'Mark Twain -- Adventures of Huckleberry Finn' segment 4.\n",
      "3\n",
      "3\n",
      "3\n"
     ]
    },
    {
     "name": "stderr",
     "output_type": "stream",
     "text": [
      "Processing files:  36%|███▌      | 23/64 [16:17<11:12, 16.41s/it]"
     ]
    },
    {
     "name": "stdout",
     "output_type": "stream",
     "text": [
      "3\n",
      "3\n",
      "3\n"
     ]
    },
    {
     "name": "stderr",
     "output_type": "stream",
     "text": [
      "Processing files:  38%|███▊      | 24/64 [16:37<11:41, 17.54s/it]"
     ]
    },
    {
     "name": "stdout",
     "output_type": "stream",
     "text": [
      "3\n",
      "3\n",
      "3\n"
     ]
    },
    {
     "name": "stderr",
     "output_type": "stream",
     "text": [
      "Processing files:  39%|███▉      | 25/64 [16:46<09:44, 14.98s/it]"
     ]
    },
    {
     "name": "stdout",
     "output_type": "stream",
     "text": [
      "3\n",
      "3\n",
      "3\n",
      "3\n",
      "Request failed.\n",
      "Invalid operation: The `response.text` quick accessor requires the response to contain a valid `Part`, but none were returned. The candidate's [finish_reason](https://ai.google.dev/api/generate-content#finishreason) is 4. Meaning that the model was reciting from copyrighted material.\n",
      "Failed to get scenes for 'Edgar Allan Poe -- The Fall of the House of Usher' segment 1.\n"
     ]
    },
    {
     "name": "stderr",
     "output_type": "stream",
     "text": [
      "Processing files:  41%|████      | 26/64 [17:10<11:07, 17.57s/it]"
     ]
    },
    {
     "name": "stdout",
     "output_type": "stream",
     "text": [
      "3\n",
      "3\n",
      "Request failed.\n",
      "Invalid operation: The `response.text` quick accessor requires the response to contain a valid `Part`, but none were returned. The candidate's [finish_reason](https://ai.google.dev/api/generate-content#finishreason) is 4. Meaning that the model was reciting from copyrighted material.\n",
      "Failed to get scenes for 'W. W. Jacobs -- The Monkey's Paw' segment 1.\n",
      "3\n",
      "3\n",
      "3\n",
      "3\n"
     ]
    },
    {
     "name": "stderr",
     "output_type": "stream",
     "text": [
      "Processing files:  42%|████▏     | 27/64 [18:11<18:50, 30.57s/it]"
     ]
    },
    {
     "name": "stdout",
     "output_type": "stream",
     "text": [
      "3\n"
     ]
    },
    {
     "name": "stderr",
     "output_type": "stream",
     "text": [
      "Processing files:  44%|████▍     | 28/64 [18:20<14:29, 24.16s/it]"
     ]
    },
    {
     "name": "stdout",
     "output_type": "stream",
     "text": [
      "3\n",
      "3\n"
     ]
    },
    {
     "name": "stderr",
     "output_type": "stream",
     "text": [
      "Processing files:  45%|████▌     | 29/64 [18:21<10:00, 17.16s/it]"
     ]
    },
    {
     "name": "stdout",
     "output_type": "stream",
     "text": [
      "3\n",
      "3\n",
      "3\n",
      "3\n",
      "3\n",
      "3\n",
      "3\n",
      "3\n",
      "3\n"
     ]
    },
    {
     "name": "stderr",
     "output_type": "stream",
     "text": [
      "Processing files:  47%|████▋     | 30/64 [18:43<10:37, 18.74s/it]"
     ]
    },
    {
     "name": "stdout",
     "output_type": "stream",
     "text": [
      "3\n",
      "3\n",
      "Request failed.\n",
      "Invalid operation: The `response.text` quick accessor requires the response to contain a valid `Part`, but none were returned. The candidate's [finish_reason](https://ai.google.dev/api/generate-content#finishreason) is 4. Meaning that the model was reciting from copyrighted material.\n",
      "Failed to get scenes for 'Edgar Allan Poe -- The Masque of the Red Death' segment 1.\n",
      "3\n",
      "2\n",
      "Request failed.\n",
      "Invalid operation: The `response.text` quick accessor requires the response to contain a valid `Part`, but none were returned. The candidate's [finish_reason](https://ai.google.dev/api/generate-content#finishreason) is 4. Meaning that the model was reciting from copyrighted material.\n",
      "Failed to get scenes for 'Edgar Allan Poe -- The Cask of Amontillado' segment 2.\n",
      "3\n",
      "3\n",
      "3\n"
     ]
    },
    {
     "name": "stderr",
     "output_type": "stream",
     "text": [
      "Processing files:  48%|████▊     | 31/64 [20:02<20:11, 36.71s/it]"
     ]
    },
    {
     "name": "stdout",
     "output_type": "stream",
     "text": [
      "3\n"
     ]
    },
    {
     "name": "stderr",
     "output_type": "stream",
     "text": [
      "Processing files:  50%|█████     | 32/64 [20:09<14:56, 28.01s/it]"
     ]
    },
    {
     "name": "stdout",
     "output_type": "stream",
     "text": [
      "3\n",
      "Request failed.\n",
      "Invalid operation: The `response.text` quick accessor requires the response to contain a valid `Part`, but none were returned. The candidate's [finish_reason](https://ai.google.dev/api/generate-content#finishreason) is 7.\n",
      "Failed to get scenes for 'Ernest Hemingway -- The Sun Also Rises' segment 2.\n",
      "3\n",
      "3\n"
     ]
    },
    {
     "name": "stderr",
     "output_type": "stream",
     "text": [
      "Processing files:  52%|█████▏    | 33/64 [20:52<16:44, 32.39s/it]"
     ]
    },
    {
     "name": "stdout",
     "output_type": "stream",
     "text": [
      "3\n",
      "3\n"
     ]
    },
    {
     "name": "stderr",
     "output_type": "stream",
     "text": [
      "Processing files:  53%|█████▎    | 34/64 [20:56<11:57, 23.92s/it]"
     ]
    },
    {
     "name": "stdout",
     "output_type": "stream",
     "text": [
      "3\n",
      "3\n",
      "3\n",
      "3\n",
      "3\n",
      "Request failed.\n",
      "Invalid operation: The `response.text` quick accessor requires the response to contain a valid `Part`, but none were returned. The candidate's [finish_reason](https://ai.google.dev/api/generate-content#finishreason) is 7.\n",
      "Failed to get scenes for 'Evgenii Ivanovich Zamiatin -- We' segment 1.\n",
      "3\n",
      "3\n",
      "3\n",
      "3\n"
     ]
    },
    {
     "name": "stderr",
     "output_type": "stream",
     "text": [
      "Processing files:  55%|█████▍    | 35/64 [21:50<15:54, 32.90s/it]"
     ]
    },
    {
     "name": "stdout",
     "output_type": "stream",
     "text": [
      "3\n",
      "3\n",
      "3\n",
      "3\n"
     ]
    },
    {
     "name": "stderr",
     "output_type": "stream",
     "text": [
      "Processing files:  56%|█████▋    | 36/64 [22:25<15:42, 33.65s/it]"
     ]
    },
    {
     "name": "stdout",
     "output_type": "stream",
     "text": [
      "3\n",
      "Request failed.\n",
      "Invalid operation: The `response.text` quick accessor requires the response to contain a valid `Part`, but none were returned. The candidate's [finish_reason](https://ai.google.dev/api/generate-content#finishreason) is 4. Meaning that the model was reciting from copyrighted material.\n",
      "Failed to get scenes for 'Edgar Allan Poe -- The Fall of the House of Usher' segment 2.\n",
      "3\n"
     ]
    },
    {
     "name": "stderr",
     "output_type": "stream",
     "text": [
      "Processing files:  58%|█████▊    | 37/64 [22:44<13:05, 29.08s/it]"
     ]
    },
    {
     "name": "stdout",
     "output_type": "stream",
     "text": [
      "3\n"
     ]
    },
    {
     "name": "stderr",
     "output_type": "stream",
     "text": [
      "Processing files:  59%|█████▉    | 38/64 [22:52<09:48, 22.65s/it]"
     ]
    },
    {
     "name": "stdout",
     "output_type": "stream",
     "text": [
      "3\n"
     ]
    },
    {
     "name": "stderr",
     "output_type": "stream",
     "text": [
      "Processing files:  61%|██████    | 39/64 [23:00<07:43, 18.54s/it]"
     ]
    },
    {
     "name": "stdout",
     "output_type": "stream",
     "text": [
      "3\n"
     ]
    },
    {
     "name": "stderr",
     "output_type": "stream",
     "text": [
      "Processing files:  62%|██████▎   | 40/64 [23:04<05:37, 14.06s/it]"
     ]
    },
    {
     "name": "stdout",
     "output_type": "stream",
     "text": [
      "3\n",
      "3\n",
      "3\n",
      "3\n"
     ]
    },
    {
     "name": "stderr",
     "output_type": "stream",
     "text": [
      "Processing files:  64%|██████▍   | 41/64 [23:21<05:40, 14.79s/it]"
     ]
    },
    {
     "name": "stdout",
     "output_type": "stream",
     "text": [
      "3\n",
      "3\n",
      "3\n",
      "3\n",
      "3\n",
      "3\n"
     ]
    },
    {
     "name": "stderr",
     "output_type": "stream",
     "text": [
      "Processing files:  66%|██████▌   | 42/64 [23:41<06:03, 16.52s/it]"
     ]
    },
    {
     "name": "stdout",
     "output_type": "stream",
     "text": [
      "3\n",
      "Request failed.\n",
      "Invalid operation: The `response.text` quick accessor requires the response to contain a valid `Part`, but none were returned. The candidate's [finish_reason](https://ai.google.dev/api/generate-content#finishreason) is 4. Meaning that the model was reciting from copyrighted material.\n",
      "Failed to get scenes for 'W. W. Jacobs -- The Monkey's Paw' segment 3.\n",
      "3\n",
      "3\n"
     ]
    },
    {
     "name": "stderr",
     "output_type": "stream",
     "text": [
      "Processing files:  67%|██████▋   | 43/64 [24:11<07:08, 20.43s/it]"
     ]
    },
    {
     "name": "stdout",
     "output_type": "stream",
     "text": [
      "3\n",
      "Request failed.\n",
      "Invalid operation: The `response.text` quick accessor requires the response to contain a valid `Part`, but none were returned. The candidate's [finish_reason](https://ai.google.dev/api/generate-content#finishreason) is 7.\n",
      "Failed to get scenes for 'Algernon Blackwood -- The Wendigo' segment 1.\n",
      "3\n",
      "3\n"
     ]
    },
    {
     "name": "stderr",
     "output_type": "stream",
     "text": [
      "Processing files:  69%|██████▉   | 44/64 [25:05<10:10, 30.52s/it]"
     ]
    },
    {
     "name": "stdout",
     "output_type": "stream",
     "text": [
      "3\n",
      "3\n"
     ]
    },
    {
     "name": "stderr",
     "output_type": "stream",
     "text": [
      "Processing files:  70%|███████   | 45/64 [25:09<07:11, 22.74s/it]"
     ]
    },
    {
     "name": "stdout",
     "output_type": "stream",
     "text": [
      "3\n",
      "3\n",
      "3\n",
      "3\n"
     ]
    },
    {
     "name": "stderr",
     "output_type": "stream",
     "text": [
      "Processing files:  72%|███████▏  | 46/64 [25:46<08:03, 26.85s/it]"
     ]
    },
    {
     "name": "stdout",
     "output_type": "stream",
     "text": [
      "3\n"
     ]
    },
    {
     "name": "stderr",
     "output_type": "stream",
     "text": [
      "Processing files:  73%|███████▎  | 47/64 [25:55<06:04, 21.43s/it]"
     ]
    },
    {
     "name": "stdout",
     "output_type": "stream",
     "text": [
      "3\n",
      "3\n"
     ]
    },
    {
     "name": "stderr",
     "output_type": "stream",
     "text": [
      "Processing files:  75%|███████▌  | 48/64 [26:06<04:54, 18.42s/it]"
     ]
    },
    {
     "name": "stdout",
     "output_type": "stream",
     "text": [
      "3\n"
     ]
    },
    {
     "name": "stderr",
     "output_type": "stream",
     "text": [
      "Processing files:  77%|███████▋  | 49/64 [26:17<04:01, 16.09s/it]"
     ]
    },
    {
     "name": "stdout",
     "output_type": "stream",
     "text": [
      "3\n",
      "3\n",
      "3\n",
      "3\n",
      "3\n",
      "3\n"
     ]
    },
    {
     "name": "stderr",
     "output_type": "stream",
     "text": [
      "Processing files:  78%|███████▊  | 50/64 [26:54<05:13, 22.38s/it]"
     ]
    },
    {
     "name": "stdout",
     "output_type": "stream",
     "text": [
      "3\n",
      "3\n"
     ]
    },
    {
     "name": "stderr",
     "output_type": "stream",
     "text": [
      "Processing files:  80%|███████▉  | 51/64 [27:34<06:00, 27.74s/it]"
     ]
    },
    {
     "name": "stdout",
     "output_type": "stream",
     "text": [
      "3\n",
      "Request failed.\n",
      "Invalid operation: The `response.text` quick accessor requires the response to contain a valid `Part`, but none were returned. The candidate's [finish_reason](https://ai.google.dev/api/generate-content#finishreason) is 7.\n",
      "Failed to get scenes for 'Evgenii Ivanovich Zamiatin -- We' segment 3.\n",
      "3\n"
     ]
    },
    {
     "name": "stderr",
     "output_type": "stream",
     "text": [
      "Processing files:  81%|████████▏ | 52/64 [28:05<05:44, 28.72s/it]"
     ]
    },
    {
     "name": "stdout",
     "output_type": "stream",
     "text": [
      "3\n"
     ]
    },
    {
     "name": "stderr",
     "output_type": "stream",
     "text": [
      "Processing files:  83%|████████▎ | 53/64 [28:15<04:13, 23.09s/it]"
     ]
    },
    {
     "name": "stdout",
     "output_type": "stream",
     "text": [
      "3\n",
      "3\n",
      "3\n",
      "3\n"
     ]
    },
    {
     "name": "stderr",
     "output_type": "stream",
     "text": [
      "Processing files:  84%|████████▍ | 54/64 [29:06<05:15, 31.59s/it]"
     ]
    },
    {
     "name": "stdout",
     "output_type": "stream",
     "text": [
      "3\n",
      "3\n"
     ]
    },
    {
     "name": "stderr",
     "output_type": "stream",
     "text": [
      "Processing files:  86%|████████▌ | 55/64 [30:04<05:54, 39.34s/it]"
     ]
    },
    {
     "name": "stdout",
     "output_type": "stream",
     "text": [
      "3\n",
      "Request failed.\n",
      "Invalid operation: The `response.text` quick accessor requires the response to contain a valid `Part`, but none were returned. The candidate's [finish_reason](https://ai.google.dev/api/generate-content#finishreason) is 7.\n",
      "Failed to get scenes for 'E. M. Forster -- A passage to India' segment 3.\n",
      "3\n",
      "3\n",
      "3\n",
      "3\n"
     ]
    },
    {
     "name": "stderr",
     "output_type": "stream",
     "text": [
      "Processing files:  88%|████████▊ | 56/64 [30:53<05:39, 42.40s/it]"
     ]
    },
    {
     "name": "stdout",
     "output_type": "stream",
     "text": [
      "3\n"
     ]
    },
    {
     "name": "stderr",
     "output_type": "stream",
     "text": [
      "Processing files:  89%|████████▉ | 57/64 [31:06<03:54, 33.46s/it]"
     ]
    },
    {
     "name": "stdout",
     "output_type": "stream",
     "text": [
      "3\n"
     ]
    },
    {
     "name": "stderr",
     "output_type": "stream",
     "text": [
      "Processing files:  91%|█████████ | 58/64 [31:07<02:22, 23.68s/it]"
     ]
    },
    {
     "name": "stdout",
     "output_type": "stream",
     "text": [
      "3\n"
     ]
    },
    {
     "name": "stderr",
     "output_type": "stream",
     "text": [
      "Processing files:  92%|█████████▏| 59/64 [31:44<02:18, 27.71s/it]"
     ]
    },
    {
     "name": "stdout",
     "output_type": "stream",
     "text": [
      "3\n"
     ]
    },
    {
     "name": "stderr",
     "output_type": "stream",
     "text": [
      "Processing files:  94%|█████████▍| 60/64 [32:11<01:49, 27.47s/it]"
     ]
    },
    {
     "name": "stdout",
     "output_type": "stream",
     "text": [
      "3\n"
     ]
    },
    {
     "name": "stderr",
     "output_type": "stream",
     "text": [
      "Processing files:  95%|█████████▌| 61/64 [32:17<01:03, 21.22s/it]"
     ]
    },
    {
     "name": "stdout",
     "output_type": "stream",
     "text": [
      "3\n"
     ]
    },
    {
     "name": "stderr",
     "output_type": "stream",
     "text": [
      "Processing files:  97%|█████████▋| 62/64 [32:42<00:44, 22.30s/it]"
     ]
    },
    {
     "name": "stdout",
     "output_type": "stream",
     "text": [
      "3\n"
     ]
    },
    {
     "name": "stderr",
     "output_type": "stream",
     "text": [
      "Processing files:  98%|█████████▊| 63/64 [32:57<00:20, 20.02s/it]"
     ]
    },
    {
     "name": "stdout",
     "output_type": "stream",
     "text": [
      "3\n"
     ]
    },
    {
     "name": "stderr",
     "output_type": "stream",
     "text": [
      "Processing files: 100%|██████████| 64/64 [33:10<00:00, 31.10s/it]"
     ]
    },
    {
     "name": "stdout",
     "output_type": "stream",
     "text": [
      "3\n",
      "Processing completed.\n"
     ]
    },
    {
     "name": "stderr",
     "output_type": "stream",
     "text": [
      "\n"
     ]
    }
   ],
   "source": [
    "main()"
   ]
  }
 ],
 "metadata": {
  "kernelspec": {
   "display_name": "Python 3",
   "language": "python",
   "name": "python3"
  },
  "language_info": {
   "codemirror_mode": {
    "name": "ipython",
    "version": 3
   },
   "file_extension": ".py",
   "mimetype": "text/x-python",
   "name": "python",
   "nbconvert_exporter": "python",
   "pygments_lexer": "ipython3",
   "version": "3.10.6"
  }
 },
 "nbformat": 4,
 "nbformat_minor": 2
}
