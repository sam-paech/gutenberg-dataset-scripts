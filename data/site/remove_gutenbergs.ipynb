{
 "cells": [
  {
   "cell_type": "code",
   "execution_count": 3,
   "metadata": {},
   "outputs": [],
   "source": [
    "import json\n",
    "\n",
    "with open('processing/site_scenes_fiction.json', 'r') as f:\n",
    "    scenes = json.load(f)\n",
    "\n",
    "selected = {}\n",
    "for k,v in scenes.items():\n",
    "    this_scenes = []\n",
    "    for scene in v:\n",
    "        if not 'gutenberg' in scene.lower() and len(scene) >= 3000:\n",
    "            this_scenes.append(scene)\n",
    "    selected[k] = this_scenes\n",
    "\n",
    "with open('processing/site_scenes_fiction_cleaned.json', 'w') as f:\n",
    "    json.dump(selected, f, indent=2)"
   ]
  }
 ],
 "metadata": {
  "kernelspec": {
   "display_name": "Python 3",
   "language": "python",
   "name": "python3"
  },
  "language_info": {
   "codemirror_mode": {
    "name": "ipython",
    "version": 3
   },
   "file_extension": ".py",
   "mimetype": "text/x-python",
   "name": "python",
   "nbconvert_exporter": "python",
   "pygments_lexer": "ipython3",
   "version": "3.10.6"
  }
 },
 "nbformat": 4,
 "nbformat_minor": 2
}
