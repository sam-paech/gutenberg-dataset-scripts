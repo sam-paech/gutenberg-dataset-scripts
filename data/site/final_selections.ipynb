{
 "cells": [
  {
   "cell_type": "code",
   "execution_count": 3,
   "metadata": {},
   "outputs": [
    {
     "name": "stdout",
     "output_type": "stream",
     "text": [
      "James Branch Cabell -- The Certain Hour (Dizain des Poètes)\n"
     ]
    }
   ],
   "source": [
    "# we are removing the books we already selected from the downloaded \n",
    "# repository in the first round of processing\n",
    "\n",
    "import os, json\n",
    "\n",
    "for genre in [\"fiction\", \"adventure\", \"fantasy\", \"scifi\"]:\n",
    "    with open('site_'+genre+'_top_downloaded_books.json', 'r') as f:\n",
    "        source = json.load(f)\n",
    "    \n",
    "    with open('selections_'+genre+\".json\", 'r') as f:\n",
    "        selections = json.load(f)\n",
    "\n",
    "    selected = {}\n",
    "\n",
    "    for selection in selections:\n",
    "        \n",
    "        if selection not in source:\n",
    "            print(selection)\n",
    "            continue\n",
    "        selected[selection] = source[selection]\n",
    "    \n",
    "    with open('site_'+genre+'_final_selections.json', 'w') as f:\n",
    "        json.dump(selected, f, indent=2)"
   ]
  }
 ],
 "metadata": {
  "kernelspec": {
   "display_name": "Python 3",
   "language": "python",
   "name": "python3"
  },
  "language_info": {
   "codemirror_mode": {
    "name": "ipython",
    "version": 3
   },
   "file_extension": ".py",
   "mimetype": "text/x-python",
   "name": "python",
   "nbconvert_exporter": "python",
   "pygments_lexer": "ipython3",
   "version": "3.10.6"
  }
 },
 "nbformat": 4,
 "nbformat_minor": 2
}
