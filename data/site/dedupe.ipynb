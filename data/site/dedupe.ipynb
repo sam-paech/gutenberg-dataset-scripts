{
 "cells": [
  {
   "cell_type": "code",
   "execution_count": 3,
   "metadata": {},
   "outputs": [],
   "source": [
    "# we are removing the books we already selected from the downloaded \n",
    "# repository in the first round of processing\n",
    "\n",
    "import os, json\n",
    "\n",
    "for genre in [\"fiction\", \"adventure\", \"fantasy\", \"scifi\"]:\n",
    "    with open('site_'+genre+'_top_downloaded_books.json', 'r') as f:\n",
    "        source = json.load(f)\n",
    "    \n",
    "    with open('site_'+genre+'_dupes.json', 'r') as f:\n",
    "        dupes = json.load(f)\n",
    "\n",
    "    selected = {}\n",
    "\n",
    "    for key, is_dupe in dupes.items():\n",
    "        if is_dupe == \"unique\":\n",
    "            selected[key] = source[key]\n",
    "    \n",
    "    with open('site_'+genre+'_top_downloaded_books_deduped.json', 'w') as f:\n",
    "        json.dump(selected, f, indent=2)"
   ]
  }
 ],
 "metadata": {
  "kernelspec": {
   "display_name": "Python 3",
   "language": "python",
   "name": "python3"
  },
  "language_info": {
   "codemirror_mode": {
    "name": "ipython",
    "version": 3
   },
   "file_extension": ".py",
   "mimetype": "text/x-python",
   "name": "python",
   "nbconvert_exporter": "python",
   "pygments_lexer": "ipython3",
   "version": "3.10.6"
  }
 },
 "nbformat": 4,
 "nbformat_minor": 2
}
