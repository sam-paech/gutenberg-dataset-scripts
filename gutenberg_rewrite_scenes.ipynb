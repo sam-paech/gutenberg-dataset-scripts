{
 "cells": [
  {
   "cell_type": "code",
   "execution_count": null,
   "metadata": {},
   "outputs": [],
   "source": [
    "import openai\n",
    "import time\n",
    "\n",
    "api_key = ''\n",
    "openai_client = openai.OpenAI(\n",
    "    api_key=api_key,\n",
    "    base_url=\"https://openrouter.ai/api/v1\"\n",
    ")\n",
    "def run_openai_query(prompt, history, completion_tokens, temp, model, openai_client):\n",
    "    response = None\n",
    "    while True:\n",
    "        try:\n",
    "            messages = history + [{\"role\": \"system\", \"content\": \"Write a chapter following the prompt.\"}, {\"role\": \"user\", \"content\": prompt}]\n",
    "            \n",
    "            response = openai_client.chat.completions.create(\n",
    "                    model=model,\n",
    "                    temperature=temp,                \n",
    "                    max_tokens=completion_tokens,                \n",
    "                    messages=messages\n",
    "            )\n",
    "            content = response.choices[0].message.content\n",
    "                \n",
    "            if content:\n",
    "                return content.strip()\n",
    "            else:\n",
    "                print(response)\n",
    "                print('Error: message is empty')\n",
    "                time.sleep(5)\n",
    "\n",
    "        except Exception as e:\n",
    "            print(response)\n",
    "            print(\"Request failed.\")\n",
    "            print(e)\n",
    "            time.sleep(5)\n",
    "\n",
    "    return None"
   ]
  },
  {
   "cell_type": "code",
   "execution_count": 10,
   "metadata": {},
   "outputs": [
    {
     "name": "stderr",
     "output_type": "stream",
     "text": [
      " 33%|███▎      | 21/64 [05:22<12:24, 17.32s/it]"
     ]
    },
    {
     "name": "stdout",
     "output_type": "stream",
     "text": [
      "None\n",
      "Request failed.\n",
      "Expecting value: line 749 column 1 (char 4114)\n"
     ]
    },
    {
     "name": "stderr",
     "output_type": "stream",
     "text": [
      "100%|██████████| 64/64 [16:39<00:00, 15.61s/it]\n"
     ]
    }
   ],
   "source": [
    "import os\n",
    "import json\n",
    "from tqdm import tqdm\n",
    "from concurrent.futures import ThreadPoolExecutor, as_completed\n",
    "\n",
    "with open(\"data/site/processing/site_scenes_with_prompts_fiction.json\", 'r') as f:\n",
    "    scenes = json.load(f)\n",
    "\n",
    "outfile = 'data/site/processing/site_scenes_with_rewrites_fiction.json'\n",
    "rewrites = {}\n",
    "if os.path.exists(outfile):\n",
    "    with open(outfile, 'r') as f:\n",
    "        rewrites = json.load(f)\n",
    "\n",
    "def process_scene(scene):\n",
    "    # Perform the OpenAI query\n",
    "    result = run_openai_query(scene['prompt'], [], 2000, 0.7, \"google/gemma-2-9b-it\", openai_client)\n",
    "    \n",
    "    if result:\n",
    "        scene['rejected'] = result\n",
    "    return scene\n",
    "\n",
    "for fn, v in tqdm(scenes.items()):\n",
    "    if fn in rewrites:\n",
    "        print('skipping', fn)\n",
    "        continue\n",
    "    if not v:\n",
    "        continue\n",
    "    \n",
    "    this_scenes = []\n",
    "    # Use ThreadPoolExecutor for multithreading\n",
    "    with ThreadPoolExecutor(max_workers=len(v)) as executor:\n",
    "        # Submit all scenes to the executor\n",
    "        futures = {executor.submit(process_scene, scene): scene for scene in v}\n",
    "\n",
    "        # Process completed futures\n",
    "        for future in as_completed(futures):\n",
    "            scene = futures[future]\n",
    "            try:\n",
    "                processed_scene = future.result()\n",
    "                if processed_scene:\n",
    "                    this_scenes.append(processed_scene)\n",
    "            except Exception as e:\n",
    "                print(f\"Error processing scene {scene['prompt']}: {e}\")\n",
    "\n",
    "    rewrites[fn] = this_scenes\n",
    "\n",
    "    # Save results to file\n",
    "    with open(outfile, 'w') as f:\n",
    "        json.dump(rewrites, f, indent=2)\n",
    "    \n"
   ]
  }
 ],
 "metadata": {
  "kernelspec": {
   "display_name": "Python 3",
   "language": "python",
   "name": "python3"
  },
  "language_info": {
   "codemirror_mode": {
    "name": "ipython",
    "version": 3
   },
   "file_extension": ".py",
   "mimetype": "text/x-python",
   "name": "python",
   "nbconvert_exporter": "python",
   "pygments_lexer": "ipython3",
   "version": "3.undefined.undefined"
  }
 },
 "nbformat": 4,
 "nbformat_minor": 2
}
